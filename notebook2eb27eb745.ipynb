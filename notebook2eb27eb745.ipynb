{
  "metadata": {
    "kernelspec": {
      "display_name": "Python 3",
      "name": "python3"
    },
    "language_info": {
      "name": "python",
      "version": "3.6.6",
      "mimetype": "text/x-python",
      "codemirror_mode": {
        "name": "ipython",
        "version": 3
      },
      "pygments_lexer": "ipython3",
      "nbconvert_exporter": "python",
      "file_extension": ".py"
    },
    "extensions": {
      "jupyter_dashboards": {
        "activeView": "grid_default",
        "version": 1,
        "views": {
          "grid_default": {
            "cellMargin": 10,
            "defaultCellHeight": 20,
            "maxColumns": 12,
            "name": "grid",
            "type": "grid"
          },
          "report_default": {
            "name": "report",
            "type": "report"
          }
        }
      }
    },
    "kaggle": {
      "accelerator": "none",
      "dataSources": [
        {
          "sourceId": 1940,
          "sourceType": "datasetVersion",
          "datasetId": 1069
        }
      ],
      "dockerImageVersionId": 7174,
      "isInternetEnabled": false,
      "language": "python",
      "sourceType": "notebook",
      "isGpuEnabled": false
    },
    "colab": {
      "name": "notebook2eb27eb745",
      "provenance": [],
      "gpuType": "T4",
      "include_colab_link": true
    },
    "accelerator": "GPU"
  },
  "nbformat_minor": 0,
  "nbformat": 4,
  "cells": [
    {
      "cell_type": "markdown",
      "metadata": {
        "id": "view-in-github",
        "colab_type": "text"
      },
      "source": [
        "<a href=\"https://colab.research.google.com/github/yogi2094/yogi2094/blob/main/notebook2eb27eb745.ipynb\" target=\"_parent\"><img src=\"https://colab.research.google.com/assets/colab-badge.svg\" alt=\"Open In Colab\"/></a>"
      ]
    },
    {
      "source": [
        "import kagglehub\n",
        "ealaxi_paysim1_path = kagglehub.dataset_download('ealaxi/paysim1')\n",
        "\n",
        "print('Data source import complete.')\n"
      ],
      "metadata": {
        "id": "cZ2taD0BF3ix",
        "outputId": "176b15b4-c486-4cee-e432-8c9bf13d5a92",
        "colab": {
          "base_uri": "https://localhost:8080/"
        }
      },
      "cell_type": "code",
      "outputs": [
        {
          "output_type": "stream",
          "name": "stdout",
          "text": [
            "Downloading from https://www.kaggle.com/api/v1/datasets/download/ealaxi/paysim1?dataset_version_number=2...\n"
          ]
        },
        {
          "output_type": "stream",
          "name": "stderr",
          "text": [
            "100%|██████████| 178M/178M [00:02<00:00, 86.0MB/s]"
          ]
        },
        {
          "output_type": "stream",
          "name": "stdout",
          "text": [
            "Extracting files...\n"
          ]
        },
        {
          "output_type": "stream",
          "name": "stderr",
          "text": [
            "\n"
          ]
        },
        {
          "output_type": "stream",
          "name": "stdout",
          "text": [
            "Data source import complete.\n"
          ]
        }
      ],
      "execution_count": 1
    },
    {
      "cell_type": "code",
      "source": [
        "import pandas as pd\n",
        "import numpy as np"
      ],
      "metadata": {
        "_uuid": "c37cb5c8-9937-4e24-94c0-b5a3e2e8e5fe",
        "_cell_guid": "2f3b13bd-099d-49a6-9d72-aa6afe81e37a",
        "trusted": true,
        "extensions": {
          "jupyter_dashboards": {
            "version": 1,
            "views": {
              "grid_default": {
                "hidden": true
              },
              "report_default": {
                "hidden": true
              }
            }
          }
        },
        "execution": {
          "iopub.status.busy": "2025-03-26T20:10:39.87285Z",
          "iopub.execute_input": "2025-03-26T20:10:39.873348Z",
          "iopub.status.idle": "2025-03-26T20:10:39.877973Z",
          "shell.execute_reply.started": "2025-03-26T20:10:39.873293Z",
          "shell.execute_reply": "2025-03-26T20:10:39.877217Z"
        },
        "jupyter": {
          "outputs_hidden": false
        },
        "id": "RUKIwQGyF3i1"
      },
      "outputs": [],
      "execution_count": 2
    },
    {
      "cell_type": "code",
      "source": [
        "import warnings\n",
        "warnings.filterwarnings(\"ignore\", category=DeprecationWarning)"
      ],
      "metadata": {
        "_uuid": "4087bbce-fd26-42e7-b9e5-d5962e7f5bf7",
        "_cell_guid": "40bd510b-9f66-4cd1-a75d-3a614abaf54c",
        "trusted": true,
        "extensions": {
          "jupyter_dashboards": {
            "version": 1,
            "views": {
              "grid_default": {
                "hidden": true
              },
              "report_default": {}
            }
          }
        },
        "execution": {
          "iopub.status.busy": "2025-03-26T20:10:41.666505Z",
          "iopub.execute_input": "2025-03-26T20:10:41.666835Z",
          "iopub.status.idle": "2025-03-26T20:10:41.670978Z",
          "shell.execute_reply.started": "2025-03-26T20:10:41.66677Z",
          "shell.execute_reply": "2025-03-26T20:10:41.670266Z"
        },
        "jupyter": {
          "outputs_hidden": false
        },
        "id": "jo7POVYmF3i2"
      },
      "outputs": [],
      "execution_count": 3
    },
    {
      "cell_type": "code",
      "source": [
        "import seaborn as sns\n",
        "import matplotlib.pyplot as plt"
      ],
      "metadata": {
        "_uuid": "fd29ca2d-a308-47fd-925c-bbfc150ddfcf",
        "_cell_guid": "fa459249-9bff-41b2-bb32-083b3cb9a566",
        "trusted": true,
        "extensions": {
          "jupyter_dashboards": {
            "version": 1,
            "views": {
              "grid_default": {
                "hidden": true
              },
              "report_default": {}
            }
          }
        },
        "execution": {
          "iopub.status.busy": "2025-03-26T20:10:41.816311Z",
          "iopub.execute_input": "2025-03-26T20:10:41.816643Z",
          "iopub.status.idle": "2025-03-26T20:10:41.820867Z",
          "shell.execute_reply.started": "2025-03-26T20:10:41.816579Z",
          "shell.execute_reply": "2025-03-26T20:10:41.819882Z"
        },
        "jupyter": {
          "outputs_hidden": false
        },
        "id": "lX4IvvAwF3i2"
      },
      "outputs": [],
      "execution_count": 4
    },
    {
      "cell_type": "code",
      "source": [
        "import kagglehub\n",
        "path = kagglehub.dataset_download(\"ealaxi/paysim1\")\n",
        "\n",
        "print(\"Path to dataset files:\", path)"
      ],
      "metadata": {
        "id": "MULOzIvMGLck",
        "outputId": "bf14fac7-2f82-4581-f2e3-6727e548b2eb",
        "colab": {
          "base_uri": "https://localhost:8080/"
        }
      },
      "execution_count": 6,
      "outputs": [
        {
          "output_type": "stream",
          "name": "stdout",
          "text": [
            "Path to dataset files: /root/.cache/kagglehub/datasets/ealaxi/paysim1/versions/2\n"
          ]
        }
      ]
    },
    {
      "cell_type": "code",
      "source": [
        "data = pd.read_csv('/root/.cache/kagglehub/datasets/ealaxi/paysim1/versions/2/PS_20174392719_1491204439457_log.csv')"
      ],
      "metadata": {
        "_uuid": "5033da44-939d-45bd-a9d3-0f67e3265aec",
        "_cell_guid": "d3a1f1e6-1f42-4852-856f-c2031831fd34",
        "trusted": true,
        "extensions": {
          "jupyter_dashboards": {
            "version": 1,
            "views": {
              "grid_default": {
                "hidden": true
              },
              "report_default": {
                "hidden": true
              }
            }
          }
        },
        "execution": {
          "iopub.status.busy": "2025-03-26T20:10:41.959677Z",
          "iopub.execute_input": "2025-03-26T20:10:41.960002Z",
          "iopub.status.idle": "2025-03-26T20:10:58.363785Z",
          "shell.execute_reply.started": "2025-03-26T20:10:41.959933Z",
          "shell.execute_reply": "2025-03-26T20:10:58.363074Z"
        },
        "jupyter": {
          "outputs_hidden": false
        },
        "id": "wI-zHXQUF3i3"
      },
      "outputs": [],
      "execution_count": 8
    },
    {
      "cell_type": "code",
      "source": [
        "print('Data does not have any NULL value.')\n",
        "data.isnull().any()"
      ],
      "metadata": {
        "_uuid": "96b9da1b-84a5-4c7a-85bf-95989cf70115",
        "_cell_guid": "faa421ae-ebee-4e01-918e-6335247bb7f7",
        "trusted": true,
        "extensions": {
          "jupyter_dashboards": {
            "version": 1,
            "views": {
              "grid_default": {
                "col": 0,
                "height": 12,
                "hidden": false,
                "row": 18,
                "width": 4
              },
              "report_default": {}
            }
          }
        },
        "execution": {
          "iopub.status.busy": "2025-03-26T20:10:58.364706Z",
          "iopub.execute_input": "2025-03-26T20:10:58.364924Z",
          "iopub.status.idle": "2025-03-26T20:11:00.553894Z",
          "shell.execute_reply.started": "2025-03-26T20:10:58.364885Z",
          "shell.execute_reply": "2025-03-26T20:11:00.553079Z"
        },
        "jupyter": {
          "outputs_hidden": false
        },
        "id": "-tSmq5jmF3i3",
        "outputId": "a2dfb830-80ef-416c-9a1e-19702220a7c3",
        "colab": {
          "base_uri": "https://localhost:8080/",
          "height": 447
        }
      },
      "outputs": [
        {
          "output_type": "stream",
          "name": "stdout",
          "text": [
            "Data does not have any NULL value.\n"
          ]
        },
        {
          "output_type": "execute_result",
          "data": {
            "text/plain": [
              "step              False\n",
              "type              False\n",
              "amount            False\n",
              "nameOrig          False\n",
              "oldbalanceOrg     False\n",
              "newbalanceOrig    False\n",
              "nameDest          False\n",
              "oldbalanceDest    False\n",
              "newbalanceDest    False\n",
              "isFraud           False\n",
              "isFlaggedFraud    False\n",
              "dtype: bool"
            ],
            "text/html": [
              "<div>\n",
              "<style scoped>\n",
              "    .dataframe tbody tr th:only-of-type {\n",
              "        vertical-align: middle;\n",
              "    }\n",
              "\n",
              "    .dataframe tbody tr th {\n",
              "        vertical-align: top;\n",
              "    }\n",
              "\n",
              "    .dataframe thead th {\n",
              "        text-align: right;\n",
              "    }\n",
              "</style>\n",
              "<table border=\"1\" class=\"dataframe\">\n",
              "  <thead>\n",
              "    <tr style=\"text-align: right;\">\n",
              "      <th></th>\n",
              "      <th>0</th>\n",
              "    </tr>\n",
              "  </thead>\n",
              "  <tbody>\n",
              "    <tr>\n",
              "      <th>step</th>\n",
              "      <td>False</td>\n",
              "    </tr>\n",
              "    <tr>\n",
              "      <th>type</th>\n",
              "      <td>False</td>\n",
              "    </tr>\n",
              "    <tr>\n",
              "      <th>amount</th>\n",
              "      <td>False</td>\n",
              "    </tr>\n",
              "    <tr>\n",
              "      <th>nameOrig</th>\n",
              "      <td>False</td>\n",
              "    </tr>\n",
              "    <tr>\n",
              "      <th>oldbalanceOrg</th>\n",
              "      <td>False</td>\n",
              "    </tr>\n",
              "    <tr>\n",
              "      <th>newbalanceOrig</th>\n",
              "      <td>False</td>\n",
              "    </tr>\n",
              "    <tr>\n",
              "      <th>nameDest</th>\n",
              "      <td>False</td>\n",
              "    </tr>\n",
              "    <tr>\n",
              "      <th>oldbalanceDest</th>\n",
              "      <td>False</td>\n",
              "    </tr>\n",
              "    <tr>\n",
              "      <th>newbalanceDest</th>\n",
              "      <td>False</td>\n",
              "    </tr>\n",
              "    <tr>\n",
              "      <th>isFraud</th>\n",
              "      <td>False</td>\n",
              "    </tr>\n",
              "    <tr>\n",
              "      <th>isFlaggedFraud</th>\n",
              "      <td>False</td>\n",
              "    </tr>\n",
              "  </tbody>\n",
              "</table>\n",
              "</div><br><label><b>dtype:</b> bool</label>"
            ]
          },
          "metadata": {},
          "execution_count": 9
        }
      ],
      "execution_count": 9
    },
    {
      "cell_type": "code",
      "source": [
        "data.head()"
      ],
      "metadata": {
        "_uuid": "c537f2f9-03d2-4de5-bbec-f5e34cd1efdd",
        "_cell_guid": "a433e26a-375a-4ef4-85a0-7f2fa10092a8",
        "trusted": true,
        "extensions": {
          "jupyter_dashboards": {
            "version": 1,
            "views": {
              "grid_default": {
                "col": 0,
                "height": 6,
                "hidden": false,
                "row": 9,
                "width": 12
              },
              "report_default": {}
            }
          }
        },
        "execution": {
          "iopub.status.busy": "2025-03-26T20:11:00.555354Z",
          "iopub.execute_input": "2025-03-26T20:11:00.555722Z",
          "iopub.status.idle": "2025-03-26T20:11:00.584321Z",
          "shell.execute_reply.started": "2025-03-26T20:11:00.555651Z",
          "shell.execute_reply": "2025-03-26T20:11:00.583392Z"
        },
        "jupyter": {
          "outputs_hidden": false
        },
        "id": "FsAGbCOfF3i4",
        "outputId": "8c99e288-764e-48cc-e4b6-d9bc22733124",
        "colab": {
          "base_uri": "https://localhost:8080/",
          "height": 206
        }
      },
      "outputs": [
        {
          "output_type": "execute_result",
          "data": {
            "text/plain": [
              "   step      type    amount     nameOrig  oldbalanceOrg  newbalanceOrig  \\\n",
              "0     1   PAYMENT   9839.64  C1231006815       170136.0       160296.36   \n",
              "1     1   PAYMENT   1864.28  C1666544295        21249.0        19384.72   \n",
              "2     1  TRANSFER    181.00  C1305486145          181.0            0.00   \n",
              "3     1  CASH_OUT    181.00   C840083671          181.0            0.00   \n",
              "4     1   PAYMENT  11668.14  C2048537720        41554.0        29885.86   \n",
              "\n",
              "      nameDest  oldbalanceDest  newbalanceDest  isFraud  isFlaggedFraud  \n",
              "0  M1979787155             0.0             0.0        0               0  \n",
              "1  M2044282225             0.0             0.0        0               0  \n",
              "2   C553264065             0.0             0.0        1               0  \n",
              "3    C38997010         21182.0             0.0        1               0  \n",
              "4  M1230701703             0.0             0.0        0               0  "
            ],
            "text/html": [
              "\n",
              "  <div id=\"df-a5d8b19a-0487-4086-a07b-13ac8f9cb501\" class=\"colab-df-container\">\n",
              "    <div>\n",
              "<style scoped>\n",
              "    .dataframe tbody tr th:only-of-type {\n",
              "        vertical-align: middle;\n",
              "    }\n",
              "\n",
              "    .dataframe tbody tr th {\n",
              "        vertical-align: top;\n",
              "    }\n",
              "\n",
              "    .dataframe thead th {\n",
              "        text-align: right;\n",
              "    }\n",
              "</style>\n",
              "<table border=\"1\" class=\"dataframe\">\n",
              "  <thead>\n",
              "    <tr style=\"text-align: right;\">\n",
              "      <th></th>\n",
              "      <th>step</th>\n",
              "      <th>type</th>\n",
              "      <th>amount</th>\n",
              "      <th>nameOrig</th>\n",
              "      <th>oldbalanceOrg</th>\n",
              "      <th>newbalanceOrig</th>\n",
              "      <th>nameDest</th>\n",
              "      <th>oldbalanceDest</th>\n",
              "      <th>newbalanceDest</th>\n",
              "      <th>isFraud</th>\n",
              "      <th>isFlaggedFraud</th>\n",
              "    </tr>\n",
              "  </thead>\n",
              "  <tbody>\n",
              "    <tr>\n",
              "      <th>0</th>\n",
              "      <td>1</td>\n",
              "      <td>PAYMENT</td>\n",
              "      <td>9839.64</td>\n",
              "      <td>C1231006815</td>\n",
              "      <td>170136.0</td>\n",
              "      <td>160296.36</td>\n",
              "      <td>M1979787155</td>\n",
              "      <td>0.0</td>\n",
              "      <td>0.0</td>\n",
              "      <td>0</td>\n",
              "      <td>0</td>\n",
              "    </tr>\n",
              "    <tr>\n",
              "      <th>1</th>\n",
              "      <td>1</td>\n",
              "      <td>PAYMENT</td>\n",
              "      <td>1864.28</td>\n",
              "      <td>C1666544295</td>\n",
              "      <td>21249.0</td>\n",
              "      <td>19384.72</td>\n",
              "      <td>M2044282225</td>\n",
              "      <td>0.0</td>\n",
              "      <td>0.0</td>\n",
              "      <td>0</td>\n",
              "      <td>0</td>\n",
              "    </tr>\n",
              "    <tr>\n",
              "      <th>2</th>\n",
              "      <td>1</td>\n",
              "      <td>TRANSFER</td>\n",
              "      <td>181.00</td>\n",
              "      <td>C1305486145</td>\n",
              "      <td>181.0</td>\n",
              "      <td>0.00</td>\n",
              "      <td>C553264065</td>\n",
              "      <td>0.0</td>\n",
              "      <td>0.0</td>\n",
              "      <td>1</td>\n",
              "      <td>0</td>\n",
              "    </tr>\n",
              "    <tr>\n",
              "      <th>3</th>\n",
              "      <td>1</td>\n",
              "      <td>CASH_OUT</td>\n",
              "      <td>181.00</td>\n",
              "      <td>C840083671</td>\n",
              "      <td>181.0</td>\n",
              "      <td>0.00</td>\n",
              "      <td>C38997010</td>\n",
              "      <td>21182.0</td>\n",
              "      <td>0.0</td>\n",
              "      <td>1</td>\n",
              "      <td>0</td>\n",
              "    </tr>\n",
              "    <tr>\n",
              "      <th>4</th>\n",
              "      <td>1</td>\n",
              "      <td>PAYMENT</td>\n",
              "      <td>11668.14</td>\n",
              "      <td>C2048537720</td>\n",
              "      <td>41554.0</td>\n",
              "      <td>29885.86</td>\n",
              "      <td>M1230701703</td>\n",
              "      <td>0.0</td>\n",
              "      <td>0.0</td>\n",
              "      <td>0</td>\n",
              "      <td>0</td>\n",
              "    </tr>\n",
              "  </tbody>\n",
              "</table>\n",
              "</div>\n",
              "    <div class=\"colab-df-buttons\">\n",
              "\n",
              "  <div class=\"colab-df-container\">\n",
              "    <button class=\"colab-df-convert\" onclick=\"convertToInteractive('df-a5d8b19a-0487-4086-a07b-13ac8f9cb501')\"\n",
              "            title=\"Convert this dataframe to an interactive table.\"\n",
              "            style=\"display:none;\">\n",
              "\n",
              "  <svg xmlns=\"http://www.w3.org/2000/svg\" height=\"24px\" viewBox=\"0 -960 960 960\">\n",
              "    <path d=\"M120-120v-720h720v720H120Zm60-500h600v-160H180v160Zm220 220h160v-160H400v160Zm0 220h160v-160H400v160ZM180-400h160v-160H180v160Zm440 0h160v-160H620v160ZM180-180h160v-160H180v160Zm440 0h160v-160H620v160Z\"/>\n",
              "  </svg>\n",
              "    </button>\n",
              "\n",
              "  <style>\n",
              "    .colab-df-container {\n",
              "      display:flex;\n",
              "      gap: 12px;\n",
              "    }\n",
              "\n",
              "    .colab-df-convert {\n",
              "      background-color: #E8F0FE;\n",
              "      border: none;\n",
              "      border-radius: 50%;\n",
              "      cursor: pointer;\n",
              "      display: none;\n",
              "      fill: #1967D2;\n",
              "      height: 32px;\n",
              "      padding: 0 0 0 0;\n",
              "      width: 32px;\n",
              "    }\n",
              "\n",
              "    .colab-df-convert:hover {\n",
              "      background-color: #E2EBFA;\n",
              "      box-shadow: 0px 1px 2px rgba(60, 64, 67, 0.3), 0px 1px 3px 1px rgba(60, 64, 67, 0.15);\n",
              "      fill: #174EA6;\n",
              "    }\n",
              "\n",
              "    .colab-df-buttons div {\n",
              "      margin-bottom: 4px;\n",
              "    }\n",
              "\n",
              "    [theme=dark] .colab-df-convert {\n",
              "      background-color: #3B4455;\n",
              "      fill: #D2E3FC;\n",
              "    }\n",
              "\n",
              "    [theme=dark] .colab-df-convert:hover {\n",
              "      background-color: #434B5C;\n",
              "      box-shadow: 0px 1px 3px 1px rgba(0, 0, 0, 0.15);\n",
              "      filter: drop-shadow(0px 1px 2px rgba(0, 0, 0, 0.3));\n",
              "      fill: #FFFFFF;\n",
              "    }\n",
              "  </style>\n",
              "\n",
              "    <script>\n",
              "      const buttonEl =\n",
              "        document.querySelector('#df-a5d8b19a-0487-4086-a07b-13ac8f9cb501 button.colab-df-convert');\n",
              "      buttonEl.style.display =\n",
              "        google.colab.kernel.accessAllowed ? 'block' : 'none';\n",
              "\n",
              "      async function convertToInteractive(key) {\n",
              "        const element = document.querySelector('#df-a5d8b19a-0487-4086-a07b-13ac8f9cb501');\n",
              "        const dataTable =\n",
              "          await google.colab.kernel.invokeFunction('convertToInteractive',\n",
              "                                                    [key], {});\n",
              "        if (!dataTable) return;\n",
              "\n",
              "        const docLinkHtml = 'Like what you see? Visit the ' +\n",
              "          '<a target=\"_blank\" href=https://colab.research.google.com/notebooks/data_table.ipynb>data table notebook</a>'\n",
              "          + ' to learn more about interactive tables.';\n",
              "        element.innerHTML = '';\n",
              "        dataTable['output_type'] = 'display_data';\n",
              "        await google.colab.output.renderOutput(dataTable, element);\n",
              "        const docLink = document.createElement('div');\n",
              "        docLink.innerHTML = docLinkHtml;\n",
              "        element.appendChild(docLink);\n",
              "      }\n",
              "    </script>\n",
              "  </div>\n",
              "\n",
              "\n",
              "<div id=\"df-d208596f-62ab-486d-9669-02a6be5fd918\">\n",
              "  <button class=\"colab-df-quickchart\" onclick=\"quickchart('df-d208596f-62ab-486d-9669-02a6be5fd918')\"\n",
              "            title=\"Suggest charts\"\n",
              "            style=\"display:none;\">\n",
              "\n",
              "<svg xmlns=\"http://www.w3.org/2000/svg\" height=\"24px\"viewBox=\"0 0 24 24\"\n",
              "     width=\"24px\">\n",
              "    <g>\n",
              "        <path d=\"M19 3H5c-1.1 0-2 .9-2 2v14c0 1.1.9 2 2 2h14c1.1 0 2-.9 2-2V5c0-1.1-.9-2-2-2zM9 17H7v-7h2v7zm4 0h-2V7h2v10zm4 0h-2v-4h2v4z\"/>\n",
              "    </g>\n",
              "</svg>\n",
              "  </button>\n",
              "\n",
              "<style>\n",
              "  .colab-df-quickchart {\n",
              "      --bg-color: #E8F0FE;\n",
              "      --fill-color: #1967D2;\n",
              "      --hover-bg-color: #E2EBFA;\n",
              "      --hover-fill-color: #174EA6;\n",
              "      --disabled-fill-color: #AAA;\n",
              "      --disabled-bg-color: #DDD;\n",
              "  }\n",
              "\n",
              "  [theme=dark] .colab-df-quickchart {\n",
              "      --bg-color: #3B4455;\n",
              "      --fill-color: #D2E3FC;\n",
              "      --hover-bg-color: #434B5C;\n",
              "      --hover-fill-color: #FFFFFF;\n",
              "      --disabled-bg-color: #3B4455;\n",
              "      --disabled-fill-color: #666;\n",
              "  }\n",
              "\n",
              "  .colab-df-quickchart {\n",
              "    background-color: var(--bg-color);\n",
              "    border: none;\n",
              "    border-radius: 50%;\n",
              "    cursor: pointer;\n",
              "    display: none;\n",
              "    fill: var(--fill-color);\n",
              "    height: 32px;\n",
              "    padding: 0;\n",
              "    width: 32px;\n",
              "  }\n",
              "\n",
              "  .colab-df-quickchart:hover {\n",
              "    background-color: var(--hover-bg-color);\n",
              "    box-shadow: 0 1px 2px rgba(60, 64, 67, 0.3), 0 1px 3px 1px rgba(60, 64, 67, 0.15);\n",
              "    fill: var(--button-hover-fill-color);\n",
              "  }\n",
              "\n",
              "  .colab-df-quickchart-complete:disabled,\n",
              "  .colab-df-quickchart-complete:disabled:hover {\n",
              "    background-color: var(--disabled-bg-color);\n",
              "    fill: var(--disabled-fill-color);\n",
              "    box-shadow: none;\n",
              "  }\n",
              "\n",
              "  .colab-df-spinner {\n",
              "    border: 2px solid var(--fill-color);\n",
              "    border-color: transparent;\n",
              "    border-bottom-color: var(--fill-color);\n",
              "    animation:\n",
              "      spin 1s steps(1) infinite;\n",
              "  }\n",
              "\n",
              "  @keyframes spin {\n",
              "    0% {\n",
              "      border-color: transparent;\n",
              "      border-bottom-color: var(--fill-color);\n",
              "      border-left-color: var(--fill-color);\n",
              "    }\n",
              "    20% {\n",
              "      border-color: transparent;\n",
              "      border-left-color: var(--fill-color);\n",
              "      border-top-color: var(--fill-color);\n",
              "    }\n",
              "    30% {\n",
              "      border-color: transparent;\n",
              "      border-left-color: var(--fill-color);\n",
              "      border-top-color: var(--fill-color);\n",
              "      border-right-color: var(--fill-color);\n",
              "    }\n",
              "    40% {\n",
              "      border-color: transparent;\n",
              "      border-right-color: var(--fill-color);\n",
              "      border-top-color: var(--fill-color);\n",
              "    }\n",
              "    60% {\n",
              "      border-color: transparent;\n",
              "      border-right-color: var(--fill-color);\n",
              "    }\n",
              "    80% {\n",
              "      border-color: transparent;\n",
              "      border-right-color: var(--fill-color);\n",
              "      border-bottom-color: var(--fill-color);\n",
              "    }\n",
              "    90% {\n",
              "      border-color: transparent;\n",
              "      border-bottom-color: var(--fill-color);\n",
              "    }\n",
              "  }\n",
              "</style>\n",
              "\n",
              "  <script>\n",
              "    async function quickchart(key) {\n",
              "      const quickchartButtonEl =\n",
              "        document.querySelector('#' + key + ' button');\n",
              "      quickchartButtonEl.disabled = true;  // To prevent multiple clicks.\n",
              "      quickchartButtonEl.classList.add('colab-df-spinner');\n",
              "      try {\n",
              "        const charts = await google.colab.kernel.invokeFunction(\n",
              "            'suggestCharts', [key], {});\n",
              "      } catch (error) {\n",
              "        console.error('Error during call to suggestCharts:', error);\n",
              "      }\n",
              "      quickchartButtonEl.classList.remove('colab-df-spinner');\n",
              "      quickchartButtonEl.classList.add('colab-df-quickchart-complete');\n",
              "    }\n",
              "    (() => {\n",
              "      let quickchartButtonEl =\n",
              "        document.querySelector('#df-d208596f-62ab-486d-9669-02a6be5fd918 button');\n",
              "      quickchartButtonEl.style.display =\n",
              "        google.colab.kernel.accessAllowed ? 'block' : 'none';\n",
              "    })();\n",
              "  </script>\n",
              "</div>\n",
              "\n",
              "    </div>\n",
              "  </div>\n"
            ],
            "application/vnd.google.colaboratory.intrinsic+json": {
              "type": "dataframe",
              "variable_name": "data"
            }
          },
          "metadata": {},
          "execution_count": 10
        }
      ],
      "execution_count": 10
    },
    {
      "cell_type": "code",
      "source": [
        "data.shape"
      ],
      "metadata": {
        "_uuid": "a36d0451-aff4-42ad-a00e-a18360ee6586",
        "_cell_guid": "9e2392aa-e190-4979-978d-d7cf2bb85809",
        "trusted": true,
        "execution": {
          "iopub.status.busy": "2025-03-26T20:11:00.585577Z",
          "iopub.execute_input": "2025-03-26T20:11:00.585845Z",
          "iopub.status.idle": "2025-03-26T20:11:00.594704Z",
          "shell.execute_reply.started": "2025-03-26T20:11:00.585792Z",
          "shell.execute_reply": "2025-03-26T20:11:00.594067Z"
        },
        "jupyter": {
          "outputs_hidden": false
        },
        "id": "uSKp5EdwF3i4",
        "outputId": "65ef9d0e-9aeb-43b7-bdee-95e4f549f799",
        "colab": {
          "base_uri": "https://localhost:8080/"
        }
      },
      "outputs": [
        {
          "output_type": "execute_result",
          "data": {
            "text/plain": [
              "(6362620, 11)"
            ]
          },
          "metadata": {},
          "execution_count": 11
        }
      ],
      "execution_count": 11
    },
    {
      "cell_type": "code",
      "source": [
        "data.rename(columns={'newbalanceOrig':'newbalanceOrg'},inplace=True)\n",
        "data.drop(labels=['nameOrig','nameDest'],axis=1,inplace=True)"
      ],
      "metadata": {
        "_uuid": "bace8e43-916d-4294-a74f-5291e58f80a3",
        "_cell_guid": "d110c97b-f656-4845-94bb-9d97970391b5",
        "trusted": true,
        "execution": {
          "iopub.status.busy": "2025-03-26T20:11:00.59608Z",
          "iopub.execute_input": "2025-03-26T20:11:00.596432Z",
          "iopub.status.idle": "2025-03-26T20:11:01.901354Z",
          "shell.execute_reply.started": "2025-03-26T20:11:00.596362Z",
          "shell.execute_reply": "2025-03-26T20:11:01.900477Z"
        },
        "jupyter": {
          "outputs_hidden": false
        },
        "id": "oLCxA_1NF3i5"
      },
      "outputs": [],
      "execution_count": 12
    },
    {
      "cell_type": "markdown",
      "source": [
        "The provided data has the financial transaction data as well as the target variable **isFraud**, which is the actual fraud status of the transaction and **isFlaggedFraud** is the indicator which the simulation is used to flag the transaction using some **threshold value**."
      ],
      "metadata": {
        "_uuid": "90af4f1f-a1c7-49c6-a967-8ee82f405e1f",
        "_cell_guid": "dba44fb7-cc57-4654-a89a-909dbf336f54",
        "trusted": true,
        "collapsed": false,
        "extensions": {
          "jupyter_dashboards": {
            "version": 1,
            "views": {
              "grid_default": {
                "col": 0,
                "height": 4,
                "hidden": false,
                "row": 34,
                "width": 12
              },
              "report_default": {}
            }
          }
        },
        "jupyter": {
          "outputs_hidden": false
        },
        "id": "HA-oSdZ-F3i5"
      }
    },
    {
      "cell_type": "markdown",
      "source": [
        "## Data Analysis\n",
        "\n",
        "\n",
        "\n",
        "----"
      ],
      "metadata": {
        "_uuid": "9c823c09-9d56-4730-8f27-053aabff5f88",
        "_cell_guid": "1694c076-acc6-4ad0-88ec-49b1762076e4",
        "trusted": true,
        "collapsed": false,
        "extensions": {
          "jupyter_dashboards": {
            "version": 1,
            "views": {
              "grid_default": {
                "col": 0,
                "height": 4,
                "hidden": false,
                "row": 30,
                "width": 12
              },
              "report_default": {}
            }
          }
        },
        "jupyter": {
          "outputs_hidden": false
        },
        "id": "v8lWoI3IF3i7"
      }
    },
    {
      "cell_type": "code",
      "source": [
        "var = data.groupby('type').amount.sum()\n",
        "fig = plt.figure()\n",
        "ax1 = fig.add_subplot(1,1,1)\n",
        "var.plot(kind='bar')\n",
        "ax1.set_title(\"Total amount per transaction type\")\n",
        "ax1.set_xlabel('Type of Transaction')\n",
        "ax1.set_ylabel('Amount');"
      ],
      "metadata": {
        "_uuid": "2a3180c1-ad55-45c5-827b-a4d9b48a8edd",
        "_cell_guid": "b9c53f31-927c-4c47-ba0b-a196efd4f65e",
        "trusted": true,
        "extensions": {
          "jupyter_dashboards": {
            "version": 1,
            "views": {
              "grid_default": {
                "col": 0,
                "height": 11,
                "hidden": false,
                "row": 42,
                "width": 4
              },
              "report_default": {}
            }
          }
        },
        "execution": {
          "iopub.status.busy": "2025-03-26T20:11:01.902595Z",
          "iopub.execute_input": "2025-03-26T20:11:01.90282Z",
          "iopub.status.idle": "2025-03-26T20:11:02.518158Z",
          "shell.execute_reply.started": "2025-03-26T20:11:01.902777Z",
          "shell.execute_reply": "2025-03-26T20:11:02.517253Z"
        },
        "jupyter": {
          "outputs_hidden": false
        },
        "id": "CCWup47CF3i7",
        "outputId": "f66d6bcc-b4ba-499d-de5c-a982e98acc56",
        "colab": {
          "base_uri": "https://localhost:8080/",
          "height": 533
        }
      },
      "outputs": [
        {
          "output_type": "display_data",
          "data": {
            "text/plain": [
              "<Figure size 640x480 with 1 Axes>"
            ],
            "image/png": "[encoded data removed]"
          },
          "metadata": {}
        }
      ],
      "execution_count": 13
    },
    {
      "cell_type": "code",
      "source": [
        "data.loc[data.isFraud == 1].type.unique()"
      ],
      "metadata": {
        "_uuid": "fd584e7f-499d-4f20-9a09-36ba3e083a6b",
        "_cell_guid": "4abad9ea-e383-4f25-a7c7-92cd49b6f1e0",
        "trusted": true,
        "extensions": {
          "jupyter_dashboards": {
            "version": 1,
            "views": {
              "grid_default": {
                "col": 8,
                "height": 4,
                "hidden": false,
                "row": 18,
                "width": 4
              },
              "report_default": {}
            }
          }
        },
        "execution": {
          "iopub.status.busy": "2025-03-26T20:11:02.519428Z",
          "iopub.execute_input": "2025-03-26T20:11:02.519801Z",
          "iopub.status.idle": "2025-03-26T20:11:02.582256Z",
          "shell.execute_reply.started": "2025-03-26T20:11:02.519736Z",
          "shell.execute_reply": "2025-03-26T20:11:02.581345Z"
        },
        "jupyter": {
          "outputs_hidden": false
        },
        "id": "xecQ_gQmF3i7",
        "outputId": "e7dad43a-b251-4c1f-ffa7-73ceb40154af",
        "colab": {
          "base_uri": "https://localhost:8080/"
        }
      },
      "outputs": [
        {
          "output_type": "execute_result",
          "data": {
            "text/plain": [
              "array(['TRANSFER', 'CASH_OUT'], dtype=object)"
            ]
          },
          "metadata": {},
          "execution_count": 14
        }
      ],
      "execution_count": 14
    },
    {
      "cell_type": "code",
      "source": [
        "\n",
        "from sklearn.preprocessing import LabelEncoder\n",
        "\n",
        "# Assuming 'data' is your DataFrame\n",
        "label_encoder = LabelEncoder()\n",
        "data['type_encoded'] = label_encoder.fit_transform(data['type'])\n",
        "\n",
        "# Now calculate the correlation matrix using only numerical columns\n",
        "# and plot the heatmap\n",
        "corr_matrix = data.select_dtypes(include=np.number).corr()\n",
        "sns.heatmap(corr_matrix, cmap='RdBu')\n",
        "plt.show()"
      ],
      "metadata": {
        "_uuid": "c99cb320-1342-41c6-9cf8-c1d48fa94975",
        "_cell_guid": "88f391a6-471a-4393-afab-83cd6655f4ec",
        "trusted": true,
        "extensions": {
          "jupyter_dashboards": {
            "version": 1,
            "views": {
              "grid_default": {
                "col": 4,
                "height": 10,
                "hidden": false,
                "row": 42,
                "width": 4
              },
              "report_default": {}
            }
          }
        },
        "execution": {
          "iopub.status.busy": "2025-03-26T20:11:02.583585Z",
          "iopub.execute_input": "2025-03-26T20:11:02.583976Z",
          "iopub.status.idle": "2025-03-26T20:11:04.474607Z",
          "shell.execute_reply.started": "2025-03-26T20:11:02.583853Z",
          "shell.execute_reply": "2025-03-26T20:11:04.473719Z"
        },
        "jupyter": {
          "outputs_hidden": false
        },
        "id": "eTTmp4_mF3i8",
        "outputId": "ec1f3887-01c4-4eb2-ae7d-c39cdca64c13",
        "colab": {
          "base_uri": "https://localhost:8080/",
          "height": 537
        }
      },
      "outputs": [
        {
          "output_type": "display_data",
          "data": {
            "text/plain": [
              "<Figure size 640x480 with 2 Axes>"
            ],
            "image/png": "[encoded data removed]"
          },
          "metadata": {}
        }
      ],
      "execution_count": 19
    },
    {
      "cell_type": "code",
      "source": [
        "fraud = data.loc[data.isFraud == 1]\n",
        "nonfraud = data.loc[data.isFraud == 0]"
      ],
      "metadata": {
        "_uuid": "3eaac579-64a5-4143-8258-13e8920996d0",
        "_cell_guid": "7484fda7-6421-4267-a8b2-08c0d4393f26",
        "trusted": true,
        "extensions": {
          "jupyter_dashboards": {
            "version": 1,
            "views": {
              "grid_default": {
                "hidden": true
              },
              "report_default": {}
            }
          }
        },
        "execution": {
          "iopub.status.busy": "2025-03-26T20:11:04.475777Z",
          "iopub.execute_input": "2025-03-26T20:11:04.476113Z",
          "iopub.status.idle": "2025-03-26T20:11:05.129732Z",
          "shell.execute_reply.started": "2025-03-26T20:11:04.476058Z",
          "shell.execute_reply": "2025-03-26T20:11:05.129011Z"
        },
        "jupyter": {
          "outputs_hidden": false
        },
        "id": "paY-eEM4F3i9"
      },
      "outputs": [],
      "execution_count": 20
    },
    {
      "cell_type": "code",
      "source": [
        "fraudcount = fraud.isFraud.count()\n",
        "nonfraudcount = nonfraud.isFraud.count()"
      ],
      "metadata": {
        "_uuid": "ae4ed577-ac43-48c0-aab3-5f18abd365f9",
        "_cell_guid": "fbe4bf54-6f5f-41d6-80ce-a98884a312ac",
        "trusted": true,
        "extensions": {
          "jupyter_dashboards": {
            "version": 1,
            "views": {
              "grid_default": {
                "hidden": true
              },
              "report_default": {
                "hidden": true
              }
            }
          }
        },
        "execution": {
          "iopub.status.busy": "2025-03-26T20:11:05.131161Z",
          "iopub.execute_input": "2025-03-26T20:11:05.13152Z",
          "iopub.status.idle": "2025-03-26T20:11:05.162337Z",
          "shell.execute_reply.started": "2025-03-26T20:11:05.131457Z",
          "shell.execute_reply": "2025-03-26T20:11:05.161585Z"
        },
        "jupyter": {
          "outputs_hidden": false
        },
        "id": "6ERGvc9eF3i9"
      },
      "outputs": [],
      "execution_count": 21
    },
    {
      "cell_type": "code",
      "source": [
        "print('The total number of fraud transaction is {}.'.format(data.isFraud.sum()))\n",
        "print('The total number of fraud transaction which is marked as fraud {}.'.format(data.isFlaggedFraud.sum()))\n",
        "print('Ratio of fraud transaction vs non-fraud transaction is 1:{}.'.format(int(nonfraudcount//fraudcount)))"
      ],
      "metadata": {
        "_uuid": "5ae6d2c5-c646-4bf5-a4c3-684b44fa0aeb",
        "_cell_guid": "7adfeaa1-09d2-445f-ba82-8b162fa7c08f",
        "trusted": true,
        "extensions": {
          "jupyter_dashboards": {
            "version": 1,
            "views": {
              "grid_default": {
                "hidden": true
              },
              "report_default": {
                "hidden": true
              }
            }
          }
        },
        "scrolled": true,
        "execution": {
          "iopub.status.busy": "2025-03-26T20:11:05.376919Z",
          "iopub.execute_input": "2025-03-26T20:11:05.377214Z",
          "iopub.status.idle": "2025-03-26T20:11:05.573574Z",
          "shell.execute_reply.started": "2025-03-26T20:11:05.377169Z",
          "shell.execute_reply": "2025-03-26T20:11:05.572623Z"
        },
        "jupyter": {
          "outputs_hidden": false
        },
        "id": "7_i2XYcnF3i-",
        "outputId": "cecf7f0a-599f-411a-c580-815c9c8faed2",
        "colab": {
          "base_uri": "https://localhost:8080/"
        }
      },
      "outputs": [
        {
          "output_type": "stream",
          "name": "stdout",
          "text": [
            "The total number of fraud transaction is 8213.\n",
            "The total number of fraud transaction which is marked as fraud 16.\n",
            "Ratio of fraud transaction vs non-fraud transaction is 1:773.\n"
          ]
        }
      ],
      "execution_count": 23
    },
    {
      "cell_type": "code",
      "source": [
        "print('Thus in every 773 transaction there is 1 fraud transaction happening.')\n",
        "print('Amount lost due to these fraud transaction is ${}.'.format(int(fraud.amount.sum())))"
      ],
      "metadata": {
        "_uuid": "4894912d-916c-483a-9601-ee4e79dd4703",
        "_cell_guid": "1f3a4189-35d1-4a8e-9929-bea5a94ad253",
        "trusted": true,
        "extensions": {
          "jupyter_dashboards": {
            "version": 1,
            "views": {
              "grid_default": {
                "hidden": true
              },
              "report_default": {
                "hidden": true
              }
            }
          }
        },
        "execution": {
          "iopub.status.busy": "2025-03-26T20:11:05.574751Z",
          "iopub.execute_input": "2025-03-26T20:11:05.575054Z",
          "iopub.status.idle": "2025-03-26T20:11:05.581209Z",
          "shell.execute_reply.started": "2025-03-26T20:11:05.575007Z",
          "shell.execute_reply": "2025-03-26T20:11:05.580307Z"
        },
        "jupyter": {
          "outputs_hidden": false
        },
        "id": "maLiSGs_F3i-",
        "outputId": "4251bf40-65a1-456a-9693-a0d2c2f740f4",
        "colab": {
          "base_uri": "https://localhost:8080/"
        }
      },
      "outputs": [
        {
          "output_type": "stream",
          "name": "stdout",
          "text": [
            "Thus in every 773 transaction there is 1 fraud transaction happening.\n",
            "Amount lost due to these fraud transaction is $12056415427.\n"
          ]
        }
      ],
      "execution_count": 24
    },
    {
      "cell_type": "code",
      "source": [
        "piedata = fraud.groupby(['isFlaggedFraud']).sum()"
      ],
      "metadata": {
        "_uuid": "fa42aef7-6cee-4e70-9154-dfc42f6980b1",
        "_cell_guid": "b0101ff8-938e-4e4a-b06f-ce67bd3b1787",
        "trusted": true,
        "extensions": {
          "jupyter_dashboards": {
            "version": 1,
            "views": {
              "grid_default": {
                "hidden": true
              },
              "report_default": {}
            }
          }
        },
        "execution": {
          "iopub.status.busy": "2025-03-26T20:11:05.582272Z",
          "iopub.execute_input": "2025-03-26T20:11:05.582506Z",
          "iopub.status.idle": "2025-03-26T20:11:05.593273Z",
          "shell.execute_reply.started": "2025-03-26T20:11:05.582454Z",
          "shell.execute_reply": "2025-03-26T20:11:05.592476Z"
        },
        "jupyter": {
          "outputs_hidden": false
        },
        "id": "Gcpm1TW2F3i-"
      },
      "outputs": [],
      "execution_count": 25
    },
    {
      "cell_type": "code",
      "source": [
        "f, axes = plt.subplots(1,1, figsize=(6,6))\n",
        "axes.set_title(\"% of fraud transaction detected\")\n",
        "piedata.plot(kind='pie',y='isFraud',ax=axes, fontsize=14,shadow=False,autopct='%1.1f%%');\n",
        "axes.set_ylabel('');\n",
        "plt.legend(loc='upper left',labels=['Not Detected','Detected'])\n",
        "plt.show()"
      ],
      "metadata": {
        "_uuid": "897b13d8-8e38-4e35-a1e3-7bbf04d7cc95",
        "_cell_guid": "fe10377a-13fd-4f8f-a588-62e8611cce63",
        "trusted": true,
        "extensions": {
          "jupyter_dashboards": {
            "version": 1,
            "views": {
              "grid_default": {
                "col": 4,
                "height": 12,
                "hidden": false,
                "row": 70,
                "width": 4
              },
              "report_default": {}
            }
          }
        },
        "execution": {
          "iopub.status.busy": "2025-03-26T20:11:05.59462Z",
          "iopub.execute_input": "2025-03-26T20:11:05.595074Z",
          "iopub.status.idle": "2025-03-26T20:11:05.707822Z",
          "shell.execute_reply.started": "2025-03-26T20:11:05.594988Z",
          "shell.execute_reply": "2025-03-26T20:11:05.706921Z"
        },
        "jupyter": {
          "outputs_hidden": false
        },
        "id": "TgC3JIjUF3i_",
        "outputId": "e97a3d56-315d-43ef-eaba-84135962961f",
        "colab": {
          "base_uri": "https://localhost:8080/",
          "height": 521
        }
      },
      "outputs": [
        {
          "output_type": "display_data",
          "data": {
            "text/plain": [
              "<Figure size 600x600 with 1 Axes>"
            ],
            "image/png": "[encoded data removed]"
          },
          "metadata": {}
        }
      ],
      "execution_count": 26
    },
    {
      "cell_type": "code",
      "source": [
        "# For the entire dataset\n",
        "print(\"Class distribution in FULL dataset:\")\n",
        "print(data['isFraud'].value_counts())\n",
        "\n",
        "# For training set only (after train-test split)\n",
        "print(\"\\nClass distribution in TRAINING set:\")\n",
        "print(train_y.value_counts())\n",
        "\n",
        "# For testing set only\n",
        "print(\"\\nClass distribution in TESTING set:\")\n",
        "print(test_y.value_counts())"
      ],
      "metadata": {
        "id": "VpLnhP08Ka6v",
        "outputId": "30d91ebe-4323-4a95-f867-7c55dea519ff",
        "colab": {
          "base_uri": "https://localhost:8080/"
        }
      },
      "execution_count": 47,
      "outputs": [
        {
          "output_type": "stream",
          "name": "stdout",
          "text": [
            "Class distribution in FULL dataset:\n",
            "isFraud\n",
            "0    6354407\n",
            "1       8213\n",
            "Name: count, dtype: int64\n",
            "\n",
            "Class distribution in TRAINING set:\n",
            "isFraud\n",
            "0          5083571\n",
            "1             6525\n",
            "Name: count, dtype: int64\n",
            "\n",
            "Class distribution in TESTING set:\n",
            "isFraud\n",
            "0          1270836\n",
            "1             1688\n",
            "Name: count, dtype: int64\n"
          ]
        }
      ]
    },
    {
      "cell_type": "code",
      "source": [
        "fig = plt.figure()\n",
        "axes = fig.add_subplot(1,1,1)\n",
        "axes.set_title(\"Fraud transaction which are Flagged Correctly\")\n",
        "axes.scatter(nonfraud['amount'],nonfraud['isFlaggedFraud'],c='g')\n",
        "axes.scatter(fraud['amount'],fraud['isFlaggedFraud'],c='r')\n",
        "plt.legend(loc='upper right',labels=['Not Flagged','Flagged'])\n",
        "plt.show()"
      ],
      "metadata": {
        "_uuid": "602df489-b76a-4d2b-afd4-daf031b2d9d0",
        "_cell_guid": "2f9cdf23-b643-49e3-846f-286eb9577b5a",
        "trusted": true,
        "extensions": {
          "jupyter_dashboards": {
            "version": 1,
            "views": {
              "grid_default": {
                "col": 0,
                "height": 9,
                "hidden": false,
                "row": 63,
                "width": 4
              },
              "report_default": {}
            }
          }
        },
        "jupyter": {
          "outputs_hidden": false
        },
        "id": "D-PSgxAEF3i_",
        "outputId": "8238c88c-fa79-4936-a10a-f938766959ed",
        "colab": {
          "base_uri": "https://localhost:8080/",
          "height": 470
        }
      },
      "outputs": [
        {
          "output_type": "display_data",
          "data": {
            "text/plain": [
              "<Figure size 640x480 with 1 Axes>"
            ],
            "image/png": "[encoded data removed]"
          },
          "metadata": {}
        }
      ],
      "execution_count": 27
    },
    {
      "cell_type": "markdown",
      "source": [
        "The plot above clearly shows the **need** for a system which can be **fast** and **reliable** to mark the transaction which is fraud. Since, the current system is letting fraud transaction able to **pass through a system** which is **not labeling them as a fraud**. Some data exploration can be helpful to check for the relation between features."
      ],
      "metadata": {
        "_uuid": "2c08ab50-a370-4f3c-a4ce-74300e77458b",
        "_cell_guid": "d3d66897-f663-4fdf-a93a-aba8d6849b08",
        "trusted": true,
        "collapsed": false,
        "jupyter": {
          "outputs_hidden": false
        },
        "id": "gCOU2MiDF3i_"
      }
    },
    {
      "cell_type": "markdown",
      "source": [
        "## Data Exploration"
      ],
      "metadata": {
        "_uuid": "6041fbf0-9c0c-47c1-9e08-40d69c905df5",
        "_cell_guid": "8699ad96-7c26-4e17-ae4c-982203a1f14e",
        "trusted": true,
        "collapsed": false,
        "extensions": {
          "jupyter_dashboards": {
            "version": 1,
            "views": {
              "grid_default": {
                "col": 8,
                "height": 4,
                "hidden": false,
                "row": 22,
                "width": 4
              },
              "report_default": {}
            }
          }
        },
        "jupyter": {
          "outputs_hidden": false
        },
        "id": "sqkCRRRUF3i_"
      }
    },
    {
      "cell_type": "code",
      "source": [
        "fig = plt.figure()\n",
        "ax = fig.add_subplot(1,1,1)\n",
        "ax.scatter(nonfraud['oldbalanceOrg'],nonfraud['amount'],c='g')\n",
        "ax.scatter(fraud['oldbalanceOrg'],fraud['amount'],c='r')\n",
        "plt.show()"
      ],
      "metadata": {
        "_uuid": "888228d2-50f5-4587-971b-04f30c96fded",
        "_cell_guid": "702dda04-79dd-4b17-ad81-61ce710959f5",
        "trusted": true,
        "extensions": {
          "jupyter_dashboards": {
            "version": 1,
            "views": {
              "grid_default": {
                "col": 0,
                "height": 10,
                "hidden": false,
                "row": 53,
                "width": 4
              },
              "report_default": {}
            }
          }
        },
        "execution": {
          "iopub.status.busy": "2025-03-26T20:11:59.65688Z",
          "iopub.execute_input": "2025-03-26T20:11:59.657172Z",
          "iopub.status.idle": "2025-03-26T20:12:54.378964Z",
          "shell.execute_reply.started": "2025-03-26T20:11:59.657127Z",
          "shell.execute_reply": "2025-03-26T20:12:54.378174Z"
        },
        "jupyter": {
          "outputs_hidden": false
        },
        "id": "XS59rrm-F3i_",
        "outputId": "2fbb78e8-410d-47ca-d49f-b09d71c69684",
        "colab": {
          "base_uri": "https://localhost:8080/",
          "height": 463
        }
      },
      "outputs": [
        {
          "output_type": "display_data",
          "data": {
            "text/plain": [
              "<Figure size 640x480 with 1 Axes>"
            ],
            "image/png": "[encoded data removed]"
          },
          "metadata": {}
        }
      ],
      "execution_count": 28
    },
    {
      "cell_type": "code",
      "source": [
        "fig = plt.figure()\n",
        "ax = fig.add_subplot(1,1,1)\n",
        "ax.scatter(fraud['step'],fraud['oldbalanceOrg'])\n",
        "ax.scatter(fraud['step'],fraud['oldbalanceDest'])\n",
        "plt.show()"
      ],
      "metadata": {
        "_uuid": "d794e972-d096-4171-af23-53d77e085f66",
        "_cell_guid": "554efa0e-5a2a-4a9d-b652-5c1d1e52d791",
        "trusted": true,
        "extensions": {
          "jupyter_dashboards": {
            "version": 1,
            "views": {
              "grid_default": {
                "col": 4,
                "height": 9,
                "hidden": false,
                "row": 52,
                "width": 4
              },
              "report_default": {}
            }
          }
        },
        "execution": {
          "iopub.status.busy": "2025-03-26T20:12:54.380289Z",
          "iopub.execute_input": "2025-03-26T20:12:54.380589Z",
          "iopub.status.idle": "2025-03-26T20:12:54.748202Z",
          "shell.execute_reply.started": "2025-03-26T20:12:54.380517Z",
          "shell.execute_reply": "2025-03-26T20:12:54.746196Z"
        },
        "jupyter": {
          "outputs_hidden": false
        },
        "id": "Xbd4VrTgF3i_",
        "outputId": "9fe41491-de18-4cf9-a094-3958d0a06fb3",
        "colab": {
          "base_uri": "https://localhost:8080/",
          "height": 445
        }
      },
      "outputs": [
        {
          "output_type": "display_data",
          "data": {
            "text/plain": [
              "<Figure size 640x480 with 1 Axes>"
            ],
            "image/png": "[encoded data removed]"
          },
          "metadata": {}
        }
      ],
      "execution_count": 29
    },
    {
      "cell_type": "code",
      "source": [
        "fig = plt.figure()\n",
        "ax = fig.add_subplot(1,1,1)\n",
        "ax.scatter(fraud['step'],fraud['newbalanceOrg'])\n",
        "ax.scatter(fraud['step'],fraud['newbalanceDest'])\n",
        "plt.show()"
      ],
      "metadata": {
        "_uuid": "01284e67-02fc-46ce-91ff-9fdafe6f2d99",
        "_cell_guid": "cf12855b-c3a9-4d42-a647-da0629a064bc",
        "trusted": true,
        "extensions": {
          "jupyter_dashboards": {
            "version": 1,
            "views": {
              "grid_default": {
                "col": 8,
                "height": 9,
                "hidden": false,
                "row": 53,
                "width": 4
              },
              "report_default": {}
            }
          }
        },
        "execution": {
          "iopub.status.busy": "2025-03-26T20:12:54.749656Z",
          "iopub.execute_input": "2025-03-26T20:12:54.749971Z",
          "iopub.status.idle": "2025-03-26T20:12:55.113999Z",
          "shell.execute_reply.started": "2025-03-26T20:12:54.749899Z",
          "shell.execute_reply": "2025-03-26T20:12:55.113191Z"
        },
        "jupyter": {
          "outputs_hidden": false
        },
        "id": "RR4ZDYUjF3jA",
        "outputId": "830e83b0-d3fc-4954-ff4e-f02b7ba7dafe",
        "colab": {
          "base_uri": "https://localhost:8080/",
          "height": 445
        }
      },
      "outputs": [
        {
          "output_type": "display_data",
          "data": {
            "text/plain": [
              "<Figure size 640x480 with 1 Axes>"
            ],
            "image/png": "[encoded data removed]"
          },
          "metadata": {}
        }
      ],
      "execution_count": 30
    },
    {
      "cell_type": "code",
      "source": [
        "fig = plt.figure()\n",
        "ax = fig.add_subplot(1,1,1)\n",
        "ax.scatter(fraud['step'],fraud['newbalanceDest'])\n",
        "ax.scatter(fraud['step'],fraud['oldbalanceDest'])\n",
        "plt.show()"
      ],
      "metadata": {
        "_uuid": "f25b291c-2231-4d6d-8dd0-ab34db9f5674",
        "_cell_guid": "4279967c-8f3e-4244-81cf-51abd352ed95",
        "trusted": true,
        "extensions": {
          "jupyter_dashboards": {
            "version": 1,
            "views": {
              "grid_default": {
                "col": 4,
                "height": 9,
                "hidden": false,
                "row": 61,
                "width": 4
              },
              "report_default": {}
            }
          }
        },
        "execution": {
          "iopub.status.busy": "2025-03-26T20:12:55.115108Z",
          "iopub.execute_input": "2025-03-26T20:12:55.115378Z",
          "iopub.status.idle": "2025-03-26T20:12:55.487201Z",
          "shell.execute_reply.started": "2025-03-26T20:12:55.115335Z",
          "shell.execute_reply": "2025-03-26T20:12:55.486401Z"
        },
        "jupyter": {
          "outputs_hidden": false
        },
        "id": "1wzQbZNFF3jA",
        "outputId": "41e71e0e-be07-4617-d19f-435dcd0ef069",
        "colab": {
          "base_uri": "https://localhost:8080/",
          "height": 445
        }
      },
      "outputs": [
        {
          "output_type": "display_data",
          "data": {
            "text/plain": [
              "<Figure size 640x480 with 1 Axes>"
            ],
            "image/png": "[encoded data removed]"
          },
          "metadata": {}
        }
      ],
      "execution_count": 31
    },
    {
      "cell_type": "code",
      "source": [
        "fig = plt.figure()\n",
        "ax = fig.add_subplot(1,1,1)\n",
        "ax.scatter(fraud['step'],fraud['oldbalanceOrg'])\n",
        "ax.scatter(fraud['step'],fraud['newbalanceOrg'])\n",
        "plt.show()"
      ],
      "metadata": {
        "_uuid": "4996827f-e0e6-4ebd-9fd8-d14b731b4a89",
        "_cell_guid": "cd5973d9-a2d5-4f33-a798-031ec043d016",
        "trusted": true,
        "extensions": {
          "jupyter_dashboards": {
            "version": 1,
            "views": {
              "grid_default": {
                "col": 8,
                "height": 9,
                "hidden": false,
                "row": 62,
                "width": 4
              },
              "report_default": {}
            }
          }
        },
        "execution": {
          "iopub.status.busy": "2025-03-26T20:12:55.488535Z",
          "iopub.execute_input": "2025-03-26T20:12:55.488961Z",
          "iopub.status.idle": "2025-03-26T20:12:55.865217Z",
          "shell.execute_reply.started": "2025-03-26T20:12:55.488775Z",
          "shell.execute_reply": "2025-03-26T20:12:55.863213Z"
        },
        "jupyter": {
          "outputs_hidden": false
        },
        "id": "YpbIw5IpF3jA",
        "outputId": "e5167e26-e0ba-4803-887b-9a0e0f40a7a3",
        "colab": {
          "base_uri": "https://localhost:8080/",
          "height": 445
        }
      },
      "outputs": [
        {
          "output_type": "display_data",
          "data": {
            "text/plain": [
              "<Figure size 640x480 with 1 Axes>"
            ],
            "image/png": "[encoded data removed]"
          },
          "metadata": {}
        }
      ],
      "execution_count": 32
    },
    {
      "cell_type": "markdown",
      "source": [
        "## Data Cleaning"
      ],
      "metadata": {
        "_uuid": "f46bb2a9-345b-4258-8695-a7ebf00ddd53",
        "_cell_guid": "b1ef0e6c-01f2-4977-9c9b-7151189f70e6",
        "trusted": true,
        "collapsed": false,
        "extensions": {
          "jupyter_dashboards": {
            "version": 1,
            "views": {
              "grid_default": {
                "col": 8,
                "height": 4,
                "hidden": false,
                "row": 71,
                "width": 4
              },
              "report_default": {}
            }
          }
        },
        "jupyter": {
          "outputs_hidden": false
        },
        "id": "iR8GRREYF3jA"
      }
    },
    {
      "cell_type": "code",
      "source": [
        "import pandas as pd\n",
        "import numpy as np\n",
        "import pickle"
      ],
      "metadata": {
        "_uuid": "0c1e5b9a-c8e9-48ac-98a5-6080a082caaa",
        "_cell_guid": "da3cc2c2-35e9-48b0-8af7-ad6a69080d7e",
        "trusted": true,
        "extensions": {
          "jupyter_dashboards": {
            "version": 1,
            "views": {
              "grid_default": {
                "hidden": true
              },
              "report_default": {
                "hidden": true
              }
            }
          }
        },
        "execution": {
          "iopub.status.busy": "2025-03-26T20:12:55.866662Z",
          "iopub.execute_input": "2025-03-26T20:12:55.867149Z",
          "iopub.status.idle": "2025-03-26T20:12:55.871987Z",
          "shell.execute_reply.started": "2025-03-26T20:12:55.866914Z",
          "shell.execute_reply": "2025-03-26T20:12:55.871132Z"
        },
        "jupyter": {
          "outputs_hidden": false
        },
        "id": "e1fsFIB2F3jA"
      },
      "outputs": [],
      "execution_count": 33
    },
    {
      "cell_type": "code",
      "source": [
        "import warnings\n",
        "warnings.filterwarnings(\"ignore\", category=DeprecationWarning)"
      ],
      "metadata": {
        "_uuid": "c0a2069b-f57d-45ee-9217-6c72f5335e58",
        "_cell_guid": "8f02df6c-fb7e-4372-9ec1-cf16feab9f7e",
        "trusted": true,
        "extensions": {
          "jupyter_dashboards": {
            "version": 1,
            "views": {
              "grid_default": {
                "hidden": true
              },
              "report_default": {
                "hidden": true
              }
            }
          }
        },
        "execution": {
          "iopub.status.busy": "2025-03-26T20:12:55.873073Z",
          "iopub.execute_input": "2025-03-26T20:12:55.87335Z",
          "iopub.status.idle": "2025-03-26T20:12:55.887385Z",
          "shell.execute_reply.started": "2025-03-26T20:12:55.873305Z",
          "shell.execute_reply": "2025-03-26T20:12:55.886615Z"
        },
        "jupyter": {
          "outputs_hidden": false
        },
        "id": "Cq7rV68hF3jA"
      },
      "outputs": [],
      "execution_count": 34
    },
    {
      "cell_type": "code",
      "source": [
        "data_fraud = pd.read_csv('/root/.cache/kagglehub/datasets/ealaxi/paysim1/versions/2/PS_20174392719_1491204439457_log.csv')"
      ],
      "metadata": {
        "_uuid": "9d01b5b7-cc40-4b2b-819e-e1af7c0b6838",
        "_cell_guid": "52746996-b70e-4c67-a252-4aa0ead71fa5",
        "trusted": true,
        "extensions": {
          "jupyter_dashboards": {
            "version": 1,
            "views": {
              "grid_default": {
                "hidden": true
              },
              "report_default": {}
            }
          }
        },
        "execution": {
          "iopub.status.busy": "2025-03-26T20:12:55.888463Z",
          "iopub.execute_input": "2025-03-26T20:12:55.888732Z",
          "iopub.status.idle": "2025-03-26T20:13:10.949711Z",
          "shell.execute_reply.started": "2025-03-26T20:12:55.888687Z",
          "shell.execute_reply": "2025-03-26T20:13:10.949037Z"
        },
        "jupyter": {
          "outputs_hidden": false
        },
        "id": "6bRA-QVdF3jB"
      },
      "outputs": [],
      "execution_count": 37
    },
    {
      "cell_type": "code",
      "source": [
        "data_fraud = data_fraud.replace(to_replace={'PAYMENT':1,'TRANSFER':2,'CASH_OUT':3,\n",
        "                                            'CASH_IN':4,'DEBIT':5,'No':0,'Yes':1})"
      ],
      "metadata": {
        "_uuid": "41328532-0dcb-4c3d-b269-1e8ee3ad5528",
        "_cell_guid": "301e2aa0-88e5-41e2-872a-f774b044765f",
        "trusted": true,
        "extensions": {
          "jupyter_dashboards": {
            "version": 1,
            "views": {
              "grid_default": {
                "hidden": true
              },
              "report_default": {}
            }
          }
        },
        "execution": {
          "iopub.status.busy": "2025-03-26T20:13:10.950811Z",
          "iopub.execute_input": "2025-03-26T20:13:10.951093Z",
          "iopub.status.idle": "2025-03-26T20:13:35.908564Z",
          "shell.execute_reply.started": "2025-03-26T20:13:10.951048Z",
          "shell.execute_reply": "2025-03-26T20:13:35.907758Z"
        },
        "jupyter": {
          "outputs_hidden": false
        },
        "id": "COEd1L7TF3jB",
        "outputId": "28e3c303-8329-4127-e98d-f672a4b48af0",
        "colab": {
          "base_uri": "https://localhost:8080/"
        }
      },
      "outputs": [
        {
          "output_type": "stream",
          "name": "stderr",
          "text": [
            "<ipython-input-38-ff9f954430bd>:1: FutureWarning: Downcasting behavior in `replace` is deprecated and will be removed in a future version. To retain the old behavior, explicitly call `result.infer_objects(copy=False)`. To opt-in to the future behavior, set `pd.set_option('future.no_silent_downcasting', True)`\n",
            "  data_fraud = data_fraud.replace(to_replace={'PAYMENT':1,'TRANSFER':2,'CASH_OUT':3,\n"
          ]
        }
      ],
      "execution_count": 38
    },
    {
      "cell_type": "code",
      "source": [
        "data_fraud.drop(['nameOrig','nameDest','isFlaggedFraud'],axis=1,inplace=True)"
      ],
      "metadata": {
        "_uuid": "942b478c-866f-48d7-ab64-407a52a613d4",
        "_cell_guid": "68d280dc-23bb-459d-931e-e987d69558e9",
        "trusted": true,
        "extensions": {
          "jupyter_dashboards": {
            "version": 1,
            "views": {
              "grid_default": {
                "hidden": true
              },
              "report_default": {}
            }
          }
        },
        "execution": {
          "iopub.status.busy": "2025-03-26T20:13:35.909993Z",
          "iopub.execute_input": "2025-03-26T20:13:35.910345Z",
          "iopub.status.idle": "2025-03-26T20:13:36.537249Z",
          "shell.execute_reply.started": "2025-03-26T20:13:35.910281Z",
          "shell.execute_reply": "2025-03-26T20:13:36.536361Z"
        },
        "jupyter": {
          "outputs_hidden": false
        },
        "id": "2LxqS_qJF3jB"
      },
      "outputs": [],
      "execution_count": 39
    },
    {
      "cell_type": "code",
      "source": [
        "data_fraud.head()"
      ],
      "metadata": {
        "_uuid": "1efb71c7-5708-4c95-98d2-2387bcbc6035",
        "_cell_guid": "4a7683cd-f0ae-436a-a4f3-edd1ec089b31",
        "trusted": true,
        "extensions": {
          "jupyter_dashboards": {
            "version": 1,
            "views": {
              "grid_default": {
                "col": 4,
                "height": 7,
                "hidden": false,
                "row": 86,
                "width": 7
              },
              "report_default": {}
            }
          }
        },
        "execution": {
          "iopub.status.busy": "2025-03-26T20:13:36.538559Z",
          "iopub.execute_input": "2025-03-26T20:13:36.538839Z",
          "iopub.status.idle": "2025-03-26T20:13:36.562976Z",
          "shell.execute_reply.started": "2025-03-26T20:13:36.538779Z",
          "shell.execute_reply": "2025-03-26T20:13:36.562254Z"
        },
        "jupyter": {
          "outputs_hidden": false
        },
        "id": "N6ZrGxv4F3jB",
        "outputId": "36a2f0e0-9096-473c-fdcc-9950bd87c3a5",
        "colab": {
          "base_uri": "https://localhost:8080/",
          "height": 206
        }
      },
      "outputs": [
        {
          "output_type": "execute_result",
          "data": {
            "text/plain": [
              "   step  type    amount  oldbalanceOrg  newbalanceOrig  oldbalanceDest  \\\n",
              "0     1     1   9839.64       170136.0       160296.36             0.0   \n",
              "1     1     1   1864.28        21249.0        19384.72             0.0   \n",
              "2     1     2    181.00          181.0            0.00             0.0   \n",
              "3     1     3    181.00          181.0            0.00         21182.0   \n",
              "4     1     1  11668.14        41554.0        29885.86             0.0   \n",
              "\n",
              "   newbalanceDest  isFraud  \n",
              "0             0.0        0  \n",
              "1             0.0        0  \n",
              "2             0.0        1  \n",
              "3             0.0        1  \n",
              "4             0.0        0  "
            ],
            "text/html": [
              "\n",
              "  <div id=\"df-f2ff8be3-01d7-46f6-be78-c9ecf8df2325\" class=\"colab-df-container\">\n",
              "    <div>\n",
              "<style scoped>\n",
              "    .dataframe tbody tr th:only-of-type {\n",
              "        vertical-align: middle;\n",
              "    }\n",
              "\n",
              "    .dataframe tbody tr th {\n",
              "        vertical-align: top;\n",
              "    }\n",
              "\n",
              "    .dataframe thead th {\n",
              "        text-align: right;\n",
              "    }\n",
              "</style>\n",
              "<table border=\"1\" class=\"dataframe\">\n",
              "  <thead>\n",
              "    <tr style=\"text-align: right;\">\n",
              "      <th></th>\n",
              "      <th>step</th>\n",
              "      <th>type</th>\n",
              "      <th>amount</th>\n",
              "      <th>oldbalanceOrg</th>\n",
              "      <th>newbalanceOrig</th>\n",
              "      <th>oldbalanceDest</th>\n",
              "      <th>newbalanceDest</th>\n",
              "      <th>isFraud</th>\n",
              "    </tr>\n",
              "  </thead>\n",
              "  <tbody>\n",
              "    <tr>\n",
              "      <th>0</th>\n",
              "      <td>1</td>\n",
              "      <td>1</td>\n",
              "      <td>9839.64</td>\n",
              "      <td>170136.0</td>\n",
              "      <td>160296.36</td>\n",
              "      <td>0.0</td>\n",
              "      <td>0.0</td>\n",
              "      <td>0</td>\n",
              "    </tr>\n",
              "    <tr>\n",
              "      <th>1</th>\n",
              "      <td>1</td>\n",
              "      <td>1</td>\n",
              "      <td>1864.28</td>\n",
              "      <td>21249.0</td>\n",
              "      <td>19384.72</td>\n",
              "      <td>0.0</td>\n",
              "      <td>0.0</td>\n",
              "      <td>0</td>\n",
              "    </tr>\n",
              "    <tr>\n",
              "      <th>2</th>\n",
              "      <td>1</td>\n",
              "      <td>2</td>\n",
              "      <td>181.00</td>\n",
              "      <td>181.0</td>\n",
              "      <td>0.00</td>\n",
              "      <td>0.0</td>\n",
              "      <td>0.0</td>\n",
              "      <td>1</td>\n",
              "    </tr>\n",
              "    <tr>\n",
              "      <th>3</th>\n",
              "      <td>1</td>\n",
              "      <td>3</td>\n",
              "      <td>181.00</td>\n",
              "      <td>181.0</td>\n",
              "      <td>0.00</td>\n",
              "      <td>21182.0</td>\n",
              "      <td>0.0</td>\n",
              "      <td>1</td>\n",
              "    </tr>\n",
              "    <tr>\n",
              "      <th>4</th>\n",
              "      <td>1</td>\n",
              "      <td>1</td>\n",
              "      <td>11668.14</td>\n",
              "      <td>41554.0</td>\n",
              "      <td>29885.86</td>\n",
              "      <td>0.0</td>\n",
              "      <td>0.0</td>\n",
              "      <td>0</td>\n",
              "    </tr>\n",
              "  </tbody>\n",
              "</table>\n",
              "</div>\n",
              "    <div class=\"colab-df-buttons\">\n",
              "\n",
              "  <div class=\"colab-df-container\">\n",
              "    <button class=\"colab-df-convert\" onclick=\"convertToInteractive('df-f2ff8be3-01d7-46f6-be78-c9ecf8df2325')\"\n",
              "            title=\"Convert this dataframe to an interactive table.\"\n",
              "            style=\"display:none;\">\n",
              "\n",
              "  <svg xmlns=\"http://www.w3.org/2000/svg\" height=\"24px\" viewBox=\"0 -960 960 960\">\n",
              "    <path d=\"M120-120v-720h720v720H120Zm60-500h600v-160H180v160Zm220 220h160v-160H400v160Zm0 220h160v-160H400v160ZM180-400h160v-160H180v160Zm440 0h160v-160H620v160ZM180-180h160v-160H180v160Zm440 0h160v-160H620v160Z\"/>\n",
              "  </svg>\n",
              "    </button>\n",
              "\n",
              "  <style>\n",
              "    .colab-df-container {\n",
              "      display:flex;\n",
              "      gap: 12px;\n",
              "    }\n",
              "\n",
              "    .colab-df-convert {\n",
              "      background-color: #E8F0FE;\n",
              "      border: none;\n",
              "      border-radius: 50%;\n",
              "      cursor: pointer;\n",
              "      display: none;\n",
              "      fill: #1967D2;\n",
              "      height: 32px;\n",
              "      padding: 0 0 0 0;\n",
              "      width: 32px;\n",
              "    }\n",
              "\n",
              "    .colab-df-convert:hover {\n",
              "      background-color: #E2EBFA;\n",
              "      box-shadow: 0px 1px 2px rgba(60, 64, 67, 0.3), 0px 1px 3px 1px rgba(60, 64, 67, 0.15);\n",
              "      fill: #174EA6;\n",
              "    }\n",
              "\n",
              "    .colab-df-buttons div {\n",
              "      margin-bottom: 4px;\n",
              "    }\n",
              "\n",
              "    [theme=dark] .colab-df-convert {\n",
              "      background-color: #3B4455;\n",
              "      fill: #D2E3FC;\n",
              "    }\n",
              "\n",
              "    [theme=dark] .colab-df-convert:hover {\n",
              "      background-color: #434B5C;\n",
              "      box-shadow: 0px 1px 3px 1px rgba(0, 0, 0, 0.15);\n",
              "      filter: drop-shadow(0px 1px 2px rgba(0, 0, 0, 0.3));\n",
              "      fill: #FFFFFF;\n",
              "    }\n",
              "  </style>\n",
              "\n",
              "    <script>\n",
              "      const buttonEl =\n",
              "        document.querySelector('#df-f2ff8be3-01d7-46f6-be78-c9ecf8df2325 button.colab-df-convert');\n",
              "      buttonEl.style.display =\n",
              "        google.colab.kernel.accessAllowed ? 'block' : 'none';\n",
              "\n",
              "      async function convertToInteractive(key) {\n",
              "        const element = document.querySelector('#df-f2ff8be3-01d7-46f6-be78-c9ecf8df2325');\n",
              "        const dataTable =\n",
              "          await google.colab.kernel.invokeFunction('convertToInteractive',\n",
              "                                                    [key], {});\n",
              "        if (!dataTable) return;\n",
              "\n",
              "        const docLinkHtml = 'Like what you see? Visit the ' +\n",
              "          '<a target=\"_blank\" href=https://colab.research.google.com/notebooks/data_table.ipynb>data table notebook</a>'\n",
              "          + ' to learn more about interactive tables.';\n",
              "        element.innerHTML = '';\n",
              "        dataTable['output_type'] = 'display_data';\n",
              "        await google.colab.output.renderOutput(dataTable, element);\n",
              "        const docLink = document.createElement('div');\n",
              "        docLink.innerHTML = docLinkHtml;\n",
              "        element.appendChild(docLink);\n",
              "      }\n",
              "    </script>\n",
              "  </div>\n",
              "\n",
              "\n",
              "<div id=\"df-7689c3b4-c4aa-47ef-b75b-e675afd0acbd\">\n",
              "  <button class=\"colab-df-quickchart\" onclick=\"quickchart('df-7689c3b4-c4aa-47ef-b75b-e675afd0acbd')\"\n",
              "            title=\"Suggest charts\"\n",
              "            style=\"display:none;\">\n",
              "\n",
              "<svg xmlns=\"http://www.w3.org/2000/svg\" height=\"24px\"viewBox=\"0 0 24 24\"\n",
              "     width=\"24px\">\n",
              "    <g>\n",
              "        <path d=\"M19 3H5c-1.1 0-2 .9-2 2v14c0 1.1.9 2 2 2h14c1.1 0 2-.9 2-2V5c0-1.1-.9-2-2-2zM9 17H7v-7h2v7zm4 0h-2V7h2v10zm4 0h-2v-4h2v4z\"/>\n",
              "    </g>\n",
              "</svg>\n",
              "  </button>\n",
              "\n",
              "<style>\n",
              "  .colab-df-quickchart {\n",
              "      --bg-color: #E8F0FE;\n",
              "      --fill-color: #1967D2;\n",
              "      --hover-bg-color: #E2EBFA;\n",
              "      --hover-fill-color: #174EA6;\n",
              "      --disabled-fill-color: #AAA;\n",
              "      --disabled-bg-color: #DDD;\n",
              "  }\n",
              "\n",
              "  [theme=dark] .colab-df-quickchart {\n",
              "      --bg-color: #3B4455;\n",
              "      --fill-color: #D2E3FC;\n",
              "      --hover-bg-color: #434B5C;\n",
              "      --hover-fill-color: #FFFFFF;\n",
              "      --disabled-bg-color: #3B4455;\n",
              "      --disabled-fill-color: #666;\n",
              "  }\n",
              "\n",
              "  .colab-df-quickchart {\n",
              "    background-color: var(--bg-color);\n",
              "    border: none;\n",
              "    border-radius: 50%;\n",
              "    cursor: pointer;\n",
              "    display: none;\n",
              "    fill: var(--fill-color);\n",
              "    height: 32px;\n",
              "    padding: 0;\n",
              "    width: 32px;\n",
              "  }\n",
              "\n",
              "  .colab-df-quickchart:hover {\n",
              "    background-color: var(--hover-bg-color);\n",
              "    box-shadow: 0 1px 2px rgba(60, 64, 67, 0.3), 0 1px 3px 1px rgba(60, 64, 67, 0.15);\n",
              "    fill: var(--button-hover-fill-color);\n",
              "  }\n",
              "\n",
              "  .colab-df-quickchart-complete:disabled,\n",
              "  .colab-df-quickchart-complete:disabled:hover {\n",
              "    background-color: var(--disabled-bg-color);\n",
              "    fill: var(--disabled-fill-color);\n",
              "    box-shadow: none;\n",
              "  }\n",
              "\n",
              "  .colab-df-spinner {\n",
              "    border: 2px solid var(--fill-color);\n",
              "    border-color: transparent;\n",
              "    border-bottom-color: var(--fill-color);\n",
              "    animation:\n",
              "      spin 1s steps(1) infinite;\n",
              "  }\n",
              "\n",
              "  @keyframes spin {\n",
              "    0% {\n",
              "      border-color: transparent;\n",
              "      border-bottom-color: var(--fill-color);\n",
              "      border-left-color: var(--fill-color);\n",
              "    }\n",
              "    20% {\n",
              "      border-color: transparent;\n",
              "      border-left-color: var(--fill-color);\n",
              "      border-top-color: var(--fill-color);\n",
              "    }\n",
              "    30% {\n",
              "      border-color: transparent;\n",
              "      border-left-color: var(--fill-color);\n",
              "      border-top-color: var(--fill-color);\n",
              "      border-right-color: var(--fill-color);\n",
              "    }\n",
              "    40% {\n",
              "      border-color: transparent;\n",
              "      border-right-color: var(--fill-color);\n",
              "      border-top-color: var(--fill-color);\n",
              "    }\n",
              "    60% {\n",
              "      border-color: transparent;\n",
              "      border-right-color: var(--fill-color);\n",
              "    }\n",
              "    80% {\n",
              "      border-color: transparent;\n",
              "      border-right-color: var(--fill-color);\n",
              "      border-bottom-color: var(--fill-color);\n",
              "    }\n",
              "    90% {\n",
              "      border-color: transparent;\n",
              "      border-bottom-color: var(--fill-color);\n",
              "    }\n",
              "  }\n",
              "</style>\n",
              "\n",
              "  <script>\n",
              "    async function quickchart(key) {\n",
              "      const quickchartButtonEl =\n",
              "        document.querySelector('#' + key + ' button');\n",
              "      quickchartButtonEl.disabled = true;  // To prevent multiple clicks.\n",
              "      quickchartButtonEl.classList.add('colab-df-spinner');\n",
              "      try {\n",
              "        const charts = await google.colab.kernel.invokeFunction(\n",
              "            'suggestCharts', [key], {});\n",
              "      } catch (error) {\n",
              "        console.error('Error during call to suggestCharts:', error);\n",
              "      }\n",
              "      quickchartButtonEl.classList.remove('colab-df-spinner');\n",
              "      quickchartButtonEl.classList.add('colab-df-quickchart-complete');\n",
              "    }\n",
              "    (() => {\n",
              "      let quickchartButtonEl =\n",
              "        document.querySelector('#df-7689c3b4-c4aa-47ef-b75b-e675afd0acbd button');\n",
              "      quickchartButtonEl.style.display =\n",
              "        google.colab.kernel.accessAllowed ? 'block' : 'none';\n",
              "    })();\n",
              "  </script>\n",
              "</div>\n",
              "\n",
              "    </div>\n",
              "  </div>\n"
            ],
            "application/vnd.google.colaboratory.intrinsic+json": {
              "type": "dataframe",
              "variable_name": "data_fraud"
            }
          },
          "metadata": {},
          "execution_count": 40
        }
      ],
      "execution_count": 40
    },
    {
      "cell_type": "code",
      "source": [
        "X = data_fraud.drop(['isFraud'],axis=1)\n",
        "y = data_fraud[['isFraud']]"
      ],
      "metadata": {
        "_uuid": "f26b88b2-745a-4ceb-b8c5-5b2f66956964",
        "_cell_guid": "5c35487e-a341-4302-aa92-cf2e84c26a22",
        "trusted": true,
        "extensions": {
          "jupyter_dashboards": {
            "version": 1,
            "views": {
              "grid_default": {
                "hidden": true
              },
              "report_default": {}
            }
          }
        },
        "execution": {
          "iopub.status.busy": "2025-03-26T20:13:36.564146Z",
          "iopub.execute_input": "2025-03-26T20:13:36.564368Z",
          "iopub.status.idle": "2025-03-26T20:13:36.982027Z",
          "shell.execute_reply.started": "2025-03-26T20:13:36.564329Z",
          "shell.execute_reply": "2025-03-26T20:13:36.981391Z"
        },
        "jupyter": {
          "outputs_hidden": false
        },
        "id": "GoAjfZMNF3jS"
      },
      "outputs": [],
      "execution_count": 41
    },
    {
      "cell_type": "markdown",
      "source": [
        "## Machine Learning Model"
      ],
      "metadata": {
        "_uuid": "89868ed6-7af1-494c-a8ce-5b596be16808",
        "_cell_guid": "da31fb57-a6b6-46ac-800f-e9f52bc08843",
        "trusted": true,
        "collapsed": false,
        "extensions": {
          "jupyter_dashboards": {
            "version": 1,
            "views": {
              "grid_default": {
                "hidden": true
              },
              "report_default": {}
            }
          }
        },
        "jupyter": {
          "outputs_hidden": false
        },
        "id": "dWr0ygFCF3jS"
      }
    },
    {
      "cell_type": "code",
      "source": [
        "from sklearn.model_selection import train_test_split\n",
        "train_X, test_X, train_y, test_y = train_test_split(X, y, test_size = 0.2, random_state = 121)"
      ],
      "metadata": {
        "_uuid": "0d44c7b8-0eb2-4428-acb4-d19003ab6f2c",
        "_cell_guid": "d2ccdb20-d523-4b3d-9deb-f6689e67a8a9",
        "trusted": true,
        "extensions": {
          "jupyter_dashboards": {
            "version": 1,
            "views": {
              "grid_default": {
                "hidden": true
              },
              "report_default": {}
            }
          }
        },
        "execution": {
          "iopub.status.busy": "2025-03-26T20:13:36.983119Z",
          "iopub.execute_input": "2025-03-26T20:13:36.983351Z",
          "iopub.status.idle": "2025-03-26T20:13:38.802916Z",
          "shell.execute_reply.started": "2025-03-26T20:13:36.983309Z",
          "shell.execute_reply": "2025-03-26T20:13:38.802194Z"
        },
        "jupyter": {
          "outputs_hidden": false
        },
        "id": "2JiX3Y6IF3jS"
      },
      "outputs": [],
      "execution_count": 42
    },
    {
      "cell_type": "code",
      "source": [
        "print(pd.Series(train_y_res['isFraud']).value_counts())"
      ],
      "metadata": {
        "colab": {
          "base_uri": "https://localhost:8080/"
        },
        "id": "rX2ylII_HQLj",
        "outputId": "7f869bd4-8b6c-4c5c-d317-3fd4d4425916"
      },
      "execution_count": 44,
      "outputs": [
        {
          "output_type": "stream",
          "name": "stdout",
          "text": [
            "isFraud\n",
            "0    5083571\n",
            "1    5083571\n",
            "Name: count, dtype: int64\n"
          ]
        }
      ]
    },
    {
      "cell_type": "code",
      "source": [
        "from sklearn.ensemble import RandomForestClassifier\n",
        "from imblearn.over_sampling import SMOTE\n",
        "import pandas as pd\n",
        "\n",
        "clf = RandomForestClassifier(n_estimators=15)\n",
        "sm = SMOTE(random_state=42)\n",
        "train_X_res, train_y_res = sm.fit_resample(train_X, train_y)\n",
        "\n",
        "# Verify new class distribution\n",
        "print(\"Resampled class counts:\")\n",
        "# Extract the 'isFraud' column as a 1D array or Series\n",
        "print(pd.Series(train_y_res['isFraud'].values).value_counts())\n",
        "# or\n",
        "# print(train_y_res['isFraud'].value_counts())"
      ],
      "metadata": {
        "id": "4bccPdZeHBsu",
        "outputId": "7e8ecf37-6aa6-4355-c6d1-8c31a6e3e437",
        "colab": {
          "base_uri": "https://localhost:8080/"
        }
      },
      "execution_count": 48,
      "outputs": [
        {
          "output_type": "stream",
          "name": "stdout",
          "text": [
            "Resampled class counts:\n",
            "0    5083571\n",
            "1    5083571\n",
            "Name: count, dtype: int64\n"
          ]
        }
      ]
    },
    {
      "cell_type": "code",
      "source": [
        "from sklearn.ensemble import RandomForestClassifier\n",
        "clf = RandomForestClassifier(n_estimators=15)"
      ],
      "metadata": {
        "_uuid": "06fb0609-f417-42f9-98b6-dc2becb74631",
        "_cell_guid": "4395f86d-447e-4b29-b97a-213187858896",
        "trusted": true,
        "extensions": {
          "jupyter_dashboards": {
            "version": 1,
            "views": {
              "grid_default": {
                "hidden": true
              },
              "report_default": {}
            }
          }
        },
        "execution": {
          "iopub.status.busy": "2025-03-26T20:13:38.804494Z",
          "iopub.execute_input": "2025-03-26T20:13:38.804864Z",
          "iopub.status.idle": "2025-03-26T20:13:38.810298Z"
        },
        "jupyter": {
          "outputs_hidden": false
        },
        "id": "e32HdU3KF3jT"
      },
      "outputs": [],
      "execution_count": 49
    },
    {
      "cell_type": "code",
      "source": [
        "if True:\n",
        "    probabilities = clf.fit(train_X, train_y.values.ravel()).predict(test_X)"
      ],
      "metadata": {
        "_uuid": "6fdfb9ca-2752-493b-9c1e-9d0bd5fce10f",
        "_cell_guid": "a201eb67-851f-49b5-8d5c-5b0fcefc1a5d",
        "trusted": true,
        "extensions": {
          "jupyter_dashboards": {
            "version": 1,
            "views": {
              "grid_default": {
                "hidden": true
              },
              "report_default": {}
            }
          }
        },
        "execution": {
          "iopub.status.busy": "2025-03-26T20:13:38.811847Z",
          "iopub.execute_input": "2025-03-26T20:13:38.812214Z"
        },
        "jupyter": {
          "outputs_hidden": false
        },
        "id": "C-AfWwgjF3jT"
      },
      "outputs": [],
      "execution_count": 50
    },
    {
      "cell_type": "code",
      "source": [
        "from sklearn.metrics import average_precision_score\n",
        "if True:\n",
        "    print(average_precision_score(test_y,probabilities))"
      ],
      "metadata": {
        "_uuid": "3bd032a8-583e-49c3-a811-928f6f68b00d",
        "_cell_guid": "06dbd7c5-3d19-430d-bc96-7a35c8ccb7a6",
        "trusted": true,
        "extensions": {
          "jupyter_dashboards": {
            "version": 1,
            "views": {
              "grid_default": {
                "col": 0,
                "height": 4,
                "hidden": false,
                "row": 86,
                "width": 4
              },
              "report_default": {}
            }
          }
        },
        "jupyter": {
          "outputs_hidden": false
        },
        "id": "MaRhUVCZF3jT",
        "outputId": "6d05d43d-e321-42b4-b199-02a0fe8c47c1",
        "colab": {
          "base_uri": "https://localhost:8080/"
        }
      },
      "outputs": [
        {
          "output_type": "stream",
          "name": "stdout",
          "text": [
            "0.768584323786009\n"
          ]
        }
      ],
      "execution_count": 52
    },
    {
      "cell_type": "markdown",
      "source": [
        "**Average precision score is 0.7687.**"
      ],
      "metadata": {
        "_uuid": "c5bd83bb-5530-4afe-8025-62dae078067d",
        "_cell_guid": "12110bc9-b967-41b5-a8ee-ab14af3bbb9f",
        "trusted": true,
        "collapsed": false,
        "jupyter": {
          "outputs_hidden": false
        },
        "id": "qLHglXF6F3jU"
      }
    }
  ]
}